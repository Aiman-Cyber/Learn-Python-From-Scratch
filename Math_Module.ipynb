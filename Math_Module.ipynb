{
  "nbformat": 4,
  "nbformat_minor": 0,
  "metadata": {
    "colab": {
      "name": "Math Module.ipynb",
      "provenance": [],
      "collapsed_sections": []
    },
    "kernelspec": {
      "name": "python3",
      "display_name": "Python 3"
    }
  },
  "cells": [
    {
      "cell_type": "markdown",
      "metadata": {
        "id": "H5DBfmFS94Bq",
        "colab_type": "text"
      },
      "source": [
        "Python has a set of built-in math functions, including an extensive math module.\n",
        "It allows you to perform mathematical tasks on numbers."
      ]
    },
    {
      "cell_type": "code",
      "metadata": {
        "id": "-PKv9UuB91zf",
        "colab_type": "code",
        "colab": {}
      },
      "source": [
        "import math"
      ],
      "execution_count": 2,
      "outputs": []
    },
    {
      "cell_type": "code",
      "metadata": {
        "id": "Mn9tpp7n99yj",
        "colab_type": "code",
        "colab": {
          "base_uri": "https://localhost:8080/",
          "height": 54
        },
        "outputId": "010897f4-0e3a-49cc-98a5-9060db24192f"
      },
      "source": [
        "x = min(15, 10, 25)   # Minimum No\n",
        "y = max(35, 10, 25)   # Maximum No\n",
        "\n",
        "print(x)\n",
        "print(y) "
      ],
      "execution_count": 4,
      "outputs": [
        {
          "output_type": "stream",
          "text": [
            "10\n",
            "35\n"
          ],
          "name": "stdout"
        }
      ]
    },
    {
      "cell_type": "code",
      "metadata": {
        "id": "2KzGQ8Mh-B0T",
        "colab_type": "code",
        "colab": {
          "base_uri": "https://localhost:8080/",
          "height": 36
        },
        "outputId": "0a7aa300-bdb2-462c-9a15-aa4b461a45ec"
      },
      "source": [
        "x = abs(-7.25) # The abs() function returns the absolute (positive) value of the specified number\n",
        "\n",
        "print(x) "
      ],
      "execution_count": 5,
      "outputs": [
        {
          "output_type": "stream",
          "text": [
            "7.25\n"
          ],
          "name": "stdout"
        }
      ]
    },
    {
      "cell_type": "code",
      "metadata": {
        "id": "x-ZUKu-h-Ndi",
        "colab_type": "code",
        "colab": {
          "base_uri": "https://localhost:8080/",
          "height": 36
        },
        "outputId": "7b432c17-ffe4-475f-af42-453c6f3e2713"
      },
      "source": [
        "x = pow(4, 3)  # Return the value of 4 to the power of 3 (same as 4 * 4 * 4)\n",
        "\n",
        "print(x) "
      ],
      "execution_count": 6,
      "outputs": [
        {
          "output_type": "stream",
          "text": [
            "64\n"
          ],
          "name": "stdout"
        }
      ]
    },
    {
      "cell_type": "code",
      "metadata": {
        "id": "zjxuh4CR-WqZ",
        "colab_type": "code",
        "colab": {
          "base_uri": "https://localhost:8080/",
          "height": 36
        },
        "outputId": "6d1a98f5-9c55-4c26-cdac-b0221ae7a098"
      },
      "source": [
        "x = math.sqrt(64) # The math.sqrt() method for example, returns the square root of a number\n",
        "\n",
        "print(x) "
      ],
      "execution_count": 7,
      "outputs": [
        {
          "output_type": "stream",
          "text": [
            "8.0\n"
          ],
          "name": "stdout"
        }
      ]
    },
    {
      "cell_type": "code",
      "metadata": {
        "id": "Lo8FyHAl-dUf",
        "colab_type": "code",
        "colab": {
          "base_uri": "https://localhost:8080/",
          "height": 54
        },
        "outputId": "3448bf42-5c09-4db4-eaff-b70bf7b31152"
      },
      "source": [
        "import math\n",
        "\n",
        "x = math.ceil(1.4)   # The math.ceil() method rounds a number upwards to its nearest integer.\n",
        "y = math.floor(1.4)  # The math.floor() method rounds a number downwards to its nearest integer.\n",
        "\n",
        "print(x) # returns 2\n",
        "print(y) # returns 1 "
      ],
      "execution_count": 8,
      "outputs": [
        {
          "output_type": "stream",
          "text": [
            "2\n",
            "1\n"
          ],
          "name": "stdout"
        }
      ]
    },
    {
      "cell_type": "code",
      "metadata": {
        "id": "EkdULgmg-p7v",
        "colab_type": "code",
        "colab": {
          "base_uri": "https://localhost:8080/",
          "height": 36
        },
        "outputId": "38635a0f-be6b-4888-9431-484e78983792"
      },
      "source": [
        "x = math.pi   # Value of pi  22/7\n",
        "\n",
        "print(x)      "
      ],
      "execution_count": 10,
      "outputs": [
        {
          "output_type": "stream",
          "text": [
            "3.141592653589793\n"
          ],
          "name": "stdout"
        }
      ]
    },
    {
      "cell_type": "code",
      "metadata": {
        "id": "8Clr0Iua-tRc",
        "colab_type": "code",
        "colab": {
          "base_uri": "https://localhost:8080/",
          "height": 36
        },
        "outputId": "bc14060c-8308-47a2-a8b1-2d934c4a5463"
      },
      "source": [
        "a = 4\n",
        "\n",
        "print(math.factorial(a))   # Factorial 4! = 4*3*2*1"
      ],
      "execution_count": 16,
      "outputs": [
        {
          "output_type": "stream",
          "text": [
            "24\n"
          ],
          "name": "stdout"
        }
      ]
    },
    {
      "cell_type": "code",
      "metadata": {
        "id": "_YqAhzSr_A4M",
        "colab_type": "code",
        "colab": {
          "base_uri": "https://localhost:8080/",
          "height": 36
        },
        "outputId": "9fa751e4-b229-450a-a5fc-52587436c534"
      },
      "source": [
        "a = 20\n",
        "b = 7\n",
        "\n",
        "print(math.fmod(a,b))  # Returns the remainder of specified numbers when a number is divided by another number"
      ],
      "execution_count": 19,
      "outputs": [
        {
          "output_type": "stream",
          "text": [
            "6.0\n"
          ],
          "name": "stdout"
        }
      ]
    },
    {
      "cell_type": "code",
      "metadata": {
        "id": "30aOzBFU_jck",
        "colab_type": "code",
        "colab": {
          "base_uri": "https://localhost:8080/",
          "height": 36
        },
        "outputId": "de8483a6-cd45-4658-cc01-cdc6d6aaa96c"
      },
      "source": [
        "x = 7\n",
        "\n",
        "print(math.isfinite(x))  # Checks whether x is a finite number"
      ],
      "execution_count": 21,
      "outputs": [
        {
          "output_type": "stream",
          "text": [
            "True\n"
          ],
          "name": "stdout"
        }
      ]
    },
    {
      "cell_type": "code",
      "metadata": {
        "id": "LmO_JnHv_rc0",
        "colab_type": "code",
        "colab": {
          "base_uri": "https://localhost:8080/",
          "height": 36
        },
        "outputId": "f78b2bab-81c5-406d-d767-046d897a7a75"
      },
      "source": [
        "x = 20\n",
        "\n",
        "print(math.log(x,10))  # Returns the natural logarithm of a number, or the logarithm of number to base  \n",
        "\n",
        "# Here 10 is a base"
      ],
      "execution_count": 23,
      "outputs": [
        {
          "output_type": "stream",
          "text": [
            "1.301029995663981\n"
          ],
          "name": "stdout"
        }
      ]
    },
    {
      "cell_type": "code",
      "metadata": {
        "id": "sK8K0H6H_03A",
        "colab_type": "code",
        "colab": {
          "base_uri": "https://localhost:8080/",
          "height": 36
        },
        "outputId": "61548e3b-ab5b-4762-c086-cb4b8cd921a8"
      },
      "source": [
        "x = 35\n",
        "\n",
        "print(math.sin(x))   # Returns a sin value"
      ],
      "execution_count": 25,
      "outputs": [
        {
          "output_type": "stream",
          "text": [
            "-0.428182669496151\n"
          ],
          "name": "stdout"
        }
      ]
    },
    {
      "cell_type": "code",
      "metadata": {
        "id": "tj4vs2-o_80X",
        "colab_type": "code",
        "colab": {
          "base_uri": "https://localhost:8080/",
          "height": 36
        },
        "outputId": "0f36f3d4-8548-4c78-8068-e942b48f48a3"
      },
      "source": [
        "x = 35\n",
        "\n",
        "print(math.cos(x))   # Returns a cos value"
      ],
      "execution_count": 26,
      "outputs": [
        {
          "output_type": "stream",
          "text": [
            "-0.9036922050915067\n"
          ],
          "name": "stdout"
        }
      ]
    },
    {
      "cell_type": "code",
      "metadata": {
        "id": "kntg5bd4ACX-",
        "colab_type": "code",
        "colab": {
          "base_uri": "https://localhost:8080/",
          "height": 36
        },
        "outputId": "d7b4d80b-56e3-40f5-bdbb-f7eb976cdc7d"
      },
      "source": [
        "x = 35\n",
        "\n",
        "print(math.tan(x))   # Returns a tan value"
      ],
      "execution_count": 27,
      "outputs": [
        {
          "output_type": "stream",
          "text": [
            "0.473814720414451\n"
          ],
          "name": "stdout"
        }
      ]
    },
    {
      "cell_type": "code",
      "metadata": {
        "id": "r_YnIla5AFCg",
        "colab_type": "code",
        "colab": {
          "base_uri": "https://localhost:8080/",
          "height": 36
        },
        "outputId": "5f66dd42-0e70-45ce-f505-e1cf17bff584"
      },
      "source": [
        "# Convert degrees values into radians\n",
        "print(math.radians(180))"
      ],
      "execution_count": 28,
      "outputs": [
        {
          "output_type": "stream",
          "text": [
            "3.141592653589793\n"
          ],
          "name": "stdout"
        }
      ]
    },
    {
      "cell_type": "code",
      "metadata": {
        "id": "cMSBDht0ANRc",
        "colab_type": "code",
        "colab": {
          "base_uri": "https://localhost:8080/",
          "height": 36
        },
        "outputId": "25fb0e2b-fb30-4ffa-fc81-d560d36f001b"
      },
      "source": [
        "x = 25\n",
        "\n",
        "print(math.isnan(x))   # Checks whether x is NaN (not a number)"
      ],
      "execution_count": 29,
      "outputs": [
        {
          "output_type": "stream",
          "text": [
            "False\n"
          ],
          "name": "stdout"
        }
      ]
    },
    {
      "cell_type": "code",
      "metadata": {
        "id": "cXUfqMg-AVXr",
        "colab_type": "code",
        "colab": {
          "base_uri": "https://localhost:8080/",
          "height": 36
        },
        "outputId": "67ab462c-8eba-4312-b9e6-be9af1b918db"
      },
      "source": [
        "x = 90\n",
        "\n",
        "print(math.lgamma(x))   #  \tReturns the log gamma value of x"
      ],
      "execution_count": 31,
      "outputs": [
        {
          "output_type": "stream",
          "text": [
            "313.65282994987905\n"
          ],
          "name": "stdout"
        }
      ]
    },
    {
      "cell_type": "code",
      "metadata": {
        "id": "lkkvyNgdApOR",
        "colab_type": "code",
        "colab": {
          "base_uri": "https://localhost:8080/",
          "height": 36
        },
        "outputId": "2d1742d6-d53f-435d-cc28-1071c14dde25"
      },
      "source": [
        "print(math.e)  # Returns Euler's number   # Constant Value"
      ],
      "execution_count": 33,
      "outputs": [
        {
          "output_type": "stream",
          "text": [
            "2.718281828459045\n"
          ],
          "name": "stdout"
        }
      ]
    },
    {
      "cell_type": "code",
      "metadata": {
        "id": "PZ4bzIWCAv_x",
        "colab_type": "code",
        "colab": {
          "base_uri": "https://localhost:8080/",
          "height": 36
        },
        "outputId": "960d5deb-5ac9-4a96-d8f4-12ebac61a443"
      },
      "source": [
        "print(math.tau)    # Returns tau"
      ],
      "execution_count": 36,
      "outputs": [
        {
          "output_type": "stream",
          "text": [
            "6.283185307179586\n"
          ],
          "name": "stdout"
        }
      ]
    },
    {
      "cell_type": "code",
      "metadata": {
        "id": "LPkt7L0sA2jZ",
        "colab_type": "code",
        "colab": {
          "base_uri": "https://localhost:8080/",
          "height": 36
        },
        "outputId": "497bcd60-9903-4b60-f0e2-785d6e12b59b"
      },
      "source": [
        "x = 180\n",
        "\n",
        "print(math.sinh(x))  # Returns the hyperbolic sine of x"
      ],
      "execution_count": 38,
      "outputs": [
        {
          "output_type": "stream",
          "text": [
            "7.446921003909191e+77\n"
          ],
          "name": "stdout"
        }
      ]
    },
    {
      "cell_type": "code",
      "metadata": {
        "id": "WCIyEWdSBEsD",
        "colab_type": "code",
        "colab": {
          "base_uri": "https://localhost:8080/",
          "height": 36
        },
        "outputId": "b3c17e0a-d92b-4c65-8b3c-acdd20baf145"
      },
      "source": [
        "x = 180\n",
        "\n",
        "print(math.tanh(x))  # Returns the hyperbolic tan of x"
      ],
      "execution_count": 40,
      "outputs": [
        {
          "output_type": "stream",
          "text": [
            "1.0\n"
          ],
          "name": "stdout"
        }
      ]
    },
    {
      "cell_type": "code",
      "metadata": {
        "id": "DyVcwM54BJ0y",
        "colab_type": "code",
        "colab": {
          "base_uri": "https://localhost:8080/",
          "height": 36
        },
        "outputId": "b5b3aa3e-29fc-4387-d06e-b122ddc9afcf"
      },
      "source": [
        "print(math.gcd(26, 12))  # Returns the highest number that can divide two numbers"
      ],
      "execution_count": 41,
      "outputs": [
        {
          "output_type": "stream",
          "text": [
            "2\n"
          ],
          "name": "stdout"
        }
      ]
    }
  ]
}