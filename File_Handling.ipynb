{
  "nbformat": 4,
  "nbformat_minor": 0,
  "metadata": {
    "colab": {
      "name": "File Handling.ipynb",
      "provenance": [],
      "collapsed_sections": []
    },
    "kernelspec": {
      "name": "python3",
      "display_name": "Python 3"
    }
  },
  "cells": [
    {
      "cell_type": "code",
      "metadata": {
        "id": "bF9UmwhKV0K1",
        "colab_type": "code",
        "colab": {}
      },
      "source": [
        "# Lets Create a new File\n",
        "\n",
        "a = open('myfile.txt','w')\n",
        "a.write(\"Hello My Name Is Pulkit Arora.\")\n",
        "a.close()"
      ],
      "execution_count": 2,
      "outputs": []
    },
    {
      "cell_type": "code",
      "metadata": {
        "id": "UuvLWK9AWEYh",
        "colab_type": "code",
        "colab": {}
      },
      "source": [
        "# Write More Text in same file using append() function.\n",
        "\n",
        "a = open('myfile.txt','a')\n",
        "a.write(\"I am From India\")\n",
        "a.close()"
      ],
      "execution_count": 3,
      "outputs": []
    },
    {
      "cell_type": "code",
      "metadata": {
        "id": "-h-xXSKUWTuX",
        "colab_type": "code",
        "colab": {}
      },
      "source": [
        "# Read The Lines from a file.\n",
        "\n",
        "a = open('myfile.txt','r')\n",
        "a.read()"
      ],
      "execution_count": null,
      "outputs": []
    },
    {
      "cell_type": "code",
      "metadata": {
        "id": "s61xloHCWfLQ",
        "colab_type": "code",
        "colab": {}
      },
      "source": [
        "# But when we have more then two lines we can easily read all lines through for loop.\n",
        "\n",
        "a = open('myfile.txt','a')\n",
        "a.write(\"What is Lorem Ipsum Lorem Ipsum \\n is simply dummy text of the printing and typesetting industry Lorem Ipsum has been the industry's standard dummy text ever \\n since the 1500s when an unknown printer took a galley of type and scrambled it to make a type specimen book it has?\")\n",
        "a.close()\n"
      ],
      "execution_count": 7,
      "outputs": []
    },
    {
      "cell_type": "code",
      "metadata": {
        "id": "iLseTMAtW4CB",
        "colab_type": "code",
        "colab": {}
      },
      "source": [
        "a = open('myfile.txt','r')\n",
        "for x in a:\n",
        "  print(x) \n",
        "\n",
        "a.close()"
      ],
      "execution_count": null,
      "outputs": []
    },
    {
      "cell_type": "code",
      "metadata": {
        "id": "IM_IkeH0XFm3",
        "colab_type": "code",
        "colab": {}
      },
      "source": [
        "# Delete a File\n",
        "\n",
        "import os\n",
        "\n",
        "os.remove('myfile.txt')"
      ],
      "execution_count": 10,
      "outputs": []
    },
    {
      "cell_type": "code",
      "metadata": {
        "id": "q0Ds0n1-XOe-",
        "colab_type": "code",
        "colab": {}
      },
      "source": [
        "# Delete A Folder\n",
        "\n",
        "import os\n",
        "os.rmdir(\"sample_data\") "
      ],
      "execution_count": null,
      "outputs": []
    }
  ]
}