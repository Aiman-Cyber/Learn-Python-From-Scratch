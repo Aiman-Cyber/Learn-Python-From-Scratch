{
  "nbformat": 4,
  "nbformat_minor": 0,
  "metadata": {
    "colab": {
      "name": "Date  Module.ipynb",
      "provenance": [],
      "collapsed_sections": []
    },
    "kernelspec": {
      "name": "python3",
      "display_name": "Python 3"
    }
  },
  "cells": [
    {
      "cell_type": "markdown",
      "metadata": {
        "id": "2TW20RwW6ffR",
        "colab_type": "text"
      },
      "source": [
        "***A date in Python is not a data type of its own, but we can import a module named datetime to work with dates as date objects.***"
      ]
    },
    {
      "cell_type": "code",
      "metadata": {
        "id": "C3rJKwjC6deG",
        "colab_type": "code",
        "colab": {}
      },
      "source": [
        "import datetime"
      ],
      "execution_count": null,
      "outputs": []
    },
    {
      "cell_type": "code",
      "metadata": {
        "id": "Dmpcdsg26j4n",
        "colab_type": "code",
        "colab": {
          "base_uri": "https://localhost:8080/",
          "height": 36
        },
        "outputId": "50d3cbcf-9d04-4551-af9d-8dbb963ec411"
      },
      "source": [
        "# Display Current Date and Time\n",
        "\n",
        "\n",
        "x = datetime.datetime.now()    # year, month, day, hour, minute, second, and microsecond.\n",
        "print(x) "
      ],
      "execution_count": null,
      "outputs": [
        {
          "output_type": "stream",
          "text": [
            "2020-07-25 12:20:51.129569\n"
          ],
          "name": "stdout"
        }
      ]
    },
    {
      "cell_type": "markdown",
      "metadata": {
        "id": "JMOc7RfY8cpS",
        "colab_type": "text"
      },
      "source": [
        "The datetime object has a method for formatting date objects into readable strings.\n",
        "\n",
        "The method is called strftime(), and takes one parameter, format, to specify the format of the returned string"
      ]
    },
    {
      "cell_type": "code",
      "metadata": {
        "id": "J0O_XiYr6qkn",
        "colab_type": "code",
        "colab": {
          "base_uri": "https://localhost:8080/",
          "height": 54
        },
        "outputId": "cbd901f7-f607-4792-ac5c-ec9fc5ee12c0"
      },
      "source": [
        "# Return the year and name of weekday\n",
        "\n",
        "x = datetime.datetime.now()\n",
        "\n",
        "print(x.year)\n",
        "print(x.strftime(\"%A\"))    # %A -> Weekday Full Version"
      ],
      "execution_count": null,
      "outputs": [
        {
          "output_type": "stream",
          "text": [
            "2020\n",
            "Saturday\n"
          ],
          "name": "stdout"
        }
      ]
    },
    {
      "cell_type": "code",
      "metadata": {
        "id": "_RTWVxez61_G",
        "colab_type": "code",
        "colab": {
          "base_uri": "https://localhost:8080/",
          "height": 54
        },
        "outputId": "5d58ea6b-50c4-462c-b35b-a7f8f00c3a07"
      },
      "source": [
        "x = datetime.datetime.now()\n",
        "\n",
        "print(x.year)\n",
        "print(x.strftime(\"%c\"))   # %c -> Local Version of Date and time"
      ],
      "execution_count": null,
      "outputs": [
        {
          "output_type": "stream",
          "text": [
            "2020\n",
            "Sat Jul 25 12:23:28 2020\n"
          ],
          "name": "stdout"
        }
      ]
    },
    {
      "cell_type": "code",
      "metadata": {
        "id": "H-4LE2C_7RIV",
        "colab_type": "code",
        "colab": {
          "base_uri": "https://localhost:8080/",
          "height": 36
        },
        "outputId": "0e3b4686-819f-4278-a28e-9e6ad1831ec1"
      },
      "source": [
        "x = datetime.datetime.now()\n",
        "\n",
        "print(x.strftime(\"%x\"))   # %x -> Local Version of Date "
      ],
      "execution_count": null,
      "outputs": [
        {
          "output_type": "stream",
          "text": [
            "07/25/20\n"
          ],
          "name": "stdout"
        }
      ]
    },
    {
      "cell_type": "code",
      "metadata": {
        "id": "zV33wGC57drB",
        "colab_type": "code",
        "colab": {
          "base_uri": "https://localhost:8080/",
          "height": 36
        },
        "outputId": "ff3206c0-0b8c-426c-9d1f-a85740342eec"
      },
      "source": [
        "x = datetime.datetime.now()\n",
        "\n",
        "print(x.strftime(\"%X\"))   # %x -> Local Version of Time "
      ],
      "execution_count": null,
      "outputs": [
        {
          "output_type": "stream",
          "text": [
            "12:24:14\n"
          ],
          "name": "stdout"
        }
      ]
    },
    {
      "cell_type": "code",
      "metadata": {
        "id": "ob3tbVAe7jQM",
        "colab_type": "code",
        "colab": {
          "base_uri": "https://localhost:8080/",
          "height": 36
        },
        "outputId": "619ac54b-49a3-414d-98e7-75f9f2da6a86"
      },
      "source": [
        "x = datetime.datetime.now()\n",
        "\n",
        "print(x.strftime(\"%S\"))   # %S -> Second "
      ],
      "execution_count": null,
      "outputs": [
        {
          "output_type": "stream",
          "text": [
            "35\n"
          ],
          "name": "stdout"
        }
      ]
    },
    {
      "cell_type": "code",
      "metadata": {
        "id": "cUGLj-DL7tpv",
        "colab_type": "code",
        "colab": {
          "base_uri": "https://localhost:8080/",
          "height": 36
        },
        "outputId": "68415af6-0cd3-4bf8-dd63-0ed736b24665"
      },
      "source": [
        "x = datetime.datetime.now()\n",
        "\n",
        "print(x.strftime(\"%p\"))   # %p -> Am/Pm"
      ],
      "execution_count": null,
      "outputs": [
        {
          "output_type": "stream",
          "text": [
            "PM\n"
          ],
          "name": "stdout"
        }
      ]
    },
    {
      "cell_type": "code",
      "metadata": {
        "id": "k6k599GW785-",
        "colab_type": "code",
        "colab": {
          "base_uri": "https://localhost:8080/",
          "height": 36
        },
        "outputId": "3b76b72f-257d-4e76-9b2f-ffa0be4b7449"
      },
      "source": [
        "x = datetime.datetime.now()\n",
        "\n",
        "print(x.strftime(\"%y\"))   # %y -> Year Without Century "
      ],
      "execution_count": null,
      "outputs": [
        {
          "output_type": "stream",
          "text": [
            "20\n"
          ],
          "name": "stdout"
        }
      ]
    },
    {
      "cell_type": "code",
      "metadata": {
        "id": "U0d76tCO8Eur",
        "colab_type": "code",
        "colab": {
          "base_uri": "https://localhost:8080/",
          "height": 36
        },
        "outputId": "696a0b99-4200-4441-e6c9-c8d5e189f4c8"
      },
      "source": [
        "x = datetime.datetime.now()\n",
        "\n",
        "print(x.strftime(\"%b\"))   # %b -> Month Name Short Version "
      ],
      "execution_count": null,
      "outputs": [
        {
          "output_type": "stream",
          "text": [
            "Jul\n"
          ],
          "name": "stdout"
        }
      ]
    },
    {
      "cell_type": "code",
      "metadata": {
        "id": "L8hqx6jc8KDr",
        "colab_type": "code",
        "colab": {
          "base_uri": "https://localhost:8080/",
          "height": 36
        },
        "outputId": "c7090174-1f73-4c88-fc49-77f81e7da465"
      },
      "source": [
        "x = datetime.datetime.now()\n",
        "\n",
        "print(x.strftime(\"%j\"))   # %j -> Day Number of the year "
      ],
      "execution_count": null,
      "outputs": [
        {
          "output_type": "stream",
          "text": [
            "207\n"
          ],
          "name": "stdout"
        }
      ]
    },
    {
      "cell_type": "code",
      "metadata": {
        "id": "1Mw_1qny8N3I",
        "colab_type": "code",
        "colab": {
          "base_uri": "https://localhost:8080/",
          "height": 36
        },
        "outputId": "22c5dd5a-c176-4c0d-f43c-74bd507b3de7"
      },
      "source": [
        "# Creating Date Object\n",
        "\n",
        "# To create a date, we can use the datetime() class (constructor) of the datetime module.\n",
        "\n",
        "# The datetime() class requires three parameters to create a date: year, month, day.\n",
        "\n",
        "import datetime\n",
        "\n",
        "x = datetime.datetime(2020, 5, 17)\n",
        "\n",
        "print(x) "
      ],
      "execution_count": null,
      "outputs": [
        {
          "output_type": "stream",
          "text": [
            "2020-05-17 00:00:00\n"
          ],
          "name": "stdout"
        }
      ]
    }
  ]
}