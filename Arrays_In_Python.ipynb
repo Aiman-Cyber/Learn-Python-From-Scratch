{
  "nbformat": 4,
  "nbformat_minor": 0,
  "metadata": {
    "colab": {
      "name": "Arrays In Python.ipynb",
      "provenance": [],
      "collapsed_sections": []
    },
    "kernelspec": {
      "name": "python3",
      "display_name": "Python 3"
    }
  },
  "cells": [
    {
      "cell_type": "code",
      "metadata": {
        "id": "i9IlCIUqKYq3",
        "colab_type": "code",
        "colab": {}
      },
      "source": [
        "# Create an Array/List\n",
        "\n",
        "names = ['Rahul','Roshan','Vicky']"
      ],
      "execution_count": 1,
      "outputs": []
    },
    {
      "cell_type": "code",
      "metadata": {
        "id": "rxWMy2UzKlnv",
        "colab_type": "code",
        "colab": {
          "base_uri": "https://localhost:8080/",
          "height": 36
        },
        "outputId": "b887d15d-0bdd-4c89-a0d4-163a6f0299e8"
      },
      "source": [
        "# Access Items through an Array just like we access items in a list using index.\n",
        "\n",
        "print(names[0])"
      ],
      "execution_count": 2,
      "outputs": [
        {
          "output_type": "stream",
          "text": [
            "Rahul\n"
          ],
          "name": "stdout"
        }
      ]
    },
    {
      "cell_type": "code",
      "metadata": {
        "id": "Ou-TAL3cKvm_",
        "colab_type": "code",
        "colab": {
          "base_uri": "https://localhost:8080/",
          "height": 36
        },
        "outputId": "3beec23b-4f7a-4285-c241-5b4e78e5562e"
      },
      "source": [
        "# Modifying a name at specific position\n",
        "\n",
        "names[0] = \"Pulkit\"\n",
        "print(names)"
      ],
      "execution_count": 3,
      "outputs": [
        {
          "output_type": "stream",
          "text": [
            "['Pulkit', 'Roshan', 'Vicky']\n"
          ],
          "name": "stdout"
        }
      ]
    },
    {
      "cell_type": "code",
      "metadata": {
        "id": "9OHhpEqKK3Ah",
        "colab_type": "code",
        "colab": {
          "base_uri": "https://localhost:8080/",
          "height": 36
        },
        "outputId": "74c1f447-66d0-48ab-d5d5-64560c5844ed"
      },
      "source": [
        "# Check the length of an array\n",
        "\n",
        "print(len(names))"
      ],
      "execution_count": 4,
      "outputs": [
        {
          "output_type": "stream",
          "text": [
            "3\n"
          ],
          "name": "stdout"
        }
      ]
    },
    {
      "cell_type": "code",
      "metadata": {
        "id": "-hUiGPl6K9Hn",
        "colab_type": "code",
        "colab": {
          "base_uri": "https://localhost:8080/",
          "height": 73
        },
        "outputId": "40b6a50f-e1fa-4f5d-d6d7-4cfdde993aa1"
      },
      "source": [
        "# Access items from an array through a list\n",
        "\n",
        "for i in names:\n",
        "  print(i)"
      ],
      "execution_count": 5,
      "outputs": [
        {
          "output_type": "stream",
          "text": [
            "Pulkit\n",
            "Roshan\n",
            "Vicky\n"
          ],
          "name": "stdout"
        }
      ]
    },
    {
      "cell_type": "code",
      "metadata": {
        "id": "tXaOPy7SLErA",
        "colab_type": "code",
        "colab": {
          "base_uri": "https://localhost:8080/",
          "height": 36
        },
        "outputId": "ecdd2d52-392a-40b8-bb76-125e59700376"
      },
      "source": [
        "# Adding a new name in an array using append function.\n",
        "\n",
        "names.append(\"Tarun\")   # At last place\n",
        "print(names)"
      ],
      "execution_count": 6,
      "outputs": [
        {
          "output_type": "stream",
          "text": [
            "['Pulkit', 'Roshan', 'Vicky', 'Tarun']\n"
          ],
          "name": "stdout"
        }
      ]
    },
    {
      "cell_type": "code",
      "metadata": {
        "id": "MLrp6wnbLNgf",
        "colab_type": "code",
        "colab": {
          "base_uri": "https://localhost:8080/",
          "height": 36
        },
        "outputId": "d97b93c0-8894-4559-d036-5c23318a8fcb"
      },
      "source": [
        "# Remove an element from an array using pop()\n",
        "\n",
        "names.pop(2)   # here 2 is a index position and now Vicky is removed from this array\n",
        "print(names)"
      ],
      "execution_count": 7,
      "outputs": [
        {
          "output_type": "stream",
          "text": [
            "['Pulkit', 'Roshan', 'Tarun']\n"
          ],
          "name": "stdout"
        }
      ]
    },
    {
      "cell_type": "code",
      "metadata": {
        "id": "31YA7JgPLWI6",
        "colab_type": "code",
        "colab": {
          "base_uri": "https://localhost:8080/",
          "height": 36
        },
        "outputId": "5bbc0653-7e5b-4536-c1ac-47a5bb98540b"
      },
      "source": [
        "# Clear the array using clear()  function.\n",
        "\n",
        "names.clear()\n",
        "print(names)"
      ],
      "execution_count": 8,
      "outputs": [
        {
          "output_type": "stream",
          "text": [
            "[]\n"
          ],
          "name": "stdout"
        }
      ]
    },
    {
      "cell_type": "code",
      "metadata": {
        "id": "ujxc-etdLoJ4",
        "colab_type": "code",
        "colab": {
          "base_uri": "https://localhost:8080/",
          "height": 36
        },
        "outputId": "65092eac-ffde-49d3-8ee7-84fbdf73f070"
      },
      "source": [
        "# Copy the array and stored into another variable.\n",
        "\n",
        "names = [\"Pulkit\",\"Tarun\",\"Vicky\"]\n",
        "x = names.copy()\n",
        "\n",
        "print(x)"
      ],
      "execution_count": 9,
      "outputs": [
        {
          "output_type": "stream",
          "text": [
            "['Pulkit', 'Tarun', 'Vicky']\n"
          ],
          "name": "stdout"
        }
      ]
    },
    {
      "cell_type": "code",
      "metadata": {
        "id": "hmDxab_ULwoS",
        "colab_type": "code",
        "colab": {
          "base_uri": "https://localhost:8080/",
          "height": 36
        },
        "outputId": "bf446158-61e4-495b-a574-a339f04a341f"
      },
      "source": [
        "# Reverse the order using reverse()  function.\n",
        "\n",
        "names = [\"Pulkit\",\"Tarun\",\"Vicky\"]\n",
        "names.reverse()\n",
        "\n",
        "print(names)"
      ],
      "execution_count": 10,
      "outputs": [
        {
          "output_type": "stream",
          "text": [
            "['Vicky', 'Tarun', 'Pulkit']\n"
          ],
          "name": "stdout"
        }
      ]
    },
    {
      "cell_type": "code",
      "metadata": {
        "id": "_9yLn2OJMDJC",
        "colab_type": "code",
        "colab": {
          "base_uri": "https://localhost:8080/",
          "height": 36
        },
        "outputId": "1fafb06c-f232-4eb1-a46c-86a7878f882e"
      },
      "source": [
        "# Sort an Array using Alphabetical Order\n",
        "\n",
        "names = [\"Pulkit\",\"Tarun\",\"Vicky\",\"Aman\"]\n",
        "names.sort()\n",
        "\n",
        "print(names)"
      ],
      "execution_count": 11,
      "outputs": [
        {
          "output_type": "stream",
          "text": [
            "['Aman', 'Pulkit', 'Tarun', 'Vicky']\n"
          ],
          "name": "stdout"
        }
      ]
    },
    {
      "cell_type": "code",
      "metadata": {
        "id": "dIHOh0_BMOjB",
        "colab_type": "code",
        "colab": {
          "base_uri": "https://localhost:8080/",
          "height": 36
        },
        "outputId": "79a1729e-7d60-4e69-b833-ac2f253e5866"
      },
      "source": [
        "# Check the index position of a particular element using index() function.\n",
        "\n",
        "names = [\"Pulkit\",\"Tarun\",\"Vicky\",\"Aman\"]\n",
        "names.index(\"Tarun\")"
      ],
      "execution_count": 12,
      "outputs": [
        {
          "output_type": "execute_result",
          "data": {
            "text/plain": [
              "1"
            ]
          },
          "metadata": {
            "tags": []
          },
          "execution_count": 12
        }
      ]
    },
    {
      "cell_type": "code",
      "metadata": {
        "id": "X0c0iC21MeLl",
        "colab_type": "code",
        "colab": {
          "base_uri": "https://localhost:8080/",
          "height": 36
        },
        "outputId": "009294ee-d828-4410-938c-dfddd9f277f2"
      },
      "source": [
        "# Count a particular element in a list\n",
        "\n",
        "names = [\"Pulkit\",\"Tarun\",\"Vicky\",\"Aman\",\"Pulkit\"]\n",
        "\n",
        "names.count(\"Pulkit\")"
      ],
      "execution_count": 13,
      "outputs": [
        {
          "output_type": "execute_result",
          "data": {
            "text/plain": [
              "2"
            ]
          },
          "metadata": {
            "tags": []
          },
          "execution_count": 13
        }
      ]
    },
    {
      "cell_type": "code",
      "metadata": {
        "id": "c7c1eNv7VASc",
        "colab_type": "code",
        "colab": {}
      },
      "source": [
        ""
      ],
      "execution_count": null,
      "outputs": []
    }
  ]
}