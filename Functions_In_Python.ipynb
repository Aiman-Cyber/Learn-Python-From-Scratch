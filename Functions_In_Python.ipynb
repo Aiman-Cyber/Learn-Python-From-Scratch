{
  "nbformat": 4,
  "nbformat_minor": 0,
  "metadata": {
    "colab": {
      "name": "Functions In Python.ipynb",
      "provenance": [],
      "collapsed_sections": []
    },
    "kernelspec": {
      "name": "python3",
      "display_name": "Python 3"
    }
  },
  "cells": [
    {
      "cell_type": "code",
      "metadata": {
        "id": "PBNwRKfcz1OF",
        "colab_type": "code",
        "colab": {}
      },
      "source": [
        "# Creating a Function \n",
        "\n",
        "def myf():\n",
        "  print(\"Hello,My Name is Pulkit and I am teach u functions in Python.\")"
      ],
      "execution_count": null,
      "outputs": []
    },
    {
      "cell_type": "code",
      "metadata": {
        "id": "v21sGn7T0Ibc",
        "colab_type": "code",
        "colab": {
          "base_uri": "https://localhost:8080/",
          "height": 36
        },
        "outputId": "f8cf6a67-eacf-4620-aa08-3f0ce18ebae3"
      },
      "source": [
        "# Calling a Function\n",
        "\n",
        "myf()        # Call the Above function just declare the name of a function with A Paranthesis"
      ],
      "execution_count": null,
      "outputs": [
        {
          "output_type": "stream",
          "text": [
            "Hello,My Name is Pulkit and I am teach u functions in Python.\n"
          ],
          "name": "stdout"
        }
      ]
    },
    {
      "cell_type": "code",
      "metadata": {
        "id": "soicOX2Y0O1z",
        "colab_type": "code",
        "colab": {}
      },
      "source": [
        "# Arguments In Function\n",
        "\n",
        "def name(fname):    # Here fname is an argument\n",
        "  print(fname+' Arora')"
      ],
      "execution_count": null,
      "outputs": []
    },
    {
      "cell_type": "code",
      "metadata": {
        "id": "u8LeYJ930mt7",
        "colab_type": "code",
        "colab": {
          "base_uri": "https://localhost:8080/",
          "height": 36
        },
        "outputId": "de526752-a1f6-4110-ad0f-514582b5be03"
      },
      "source": [
        "# Lets call a name function\n",
        "\n",
        "name(\"Pulkit\")   # Here it is required to give a value inside a function otherwise it throws an Error."
      ],
      "execution_count": null,
      "outputs": [
        {
          "output_type": "stream",
          "text": [
            "Pulkit Arora\n"
          ],
          "name": "stdout"
        }
      ]
    },
    {
      "cell_type": "code",
      "metadata": {
        "id": "3aKpa69a0qlg",
        "colab_type": "code",
        "colab": {
          "base_uri": "https://localhost:8080/",
          "height": 36
        },
        "outputId": "8be78a37-313d-4eb8-c3e4-79ff033ff5e7"
      },
      "source": [
        "# We can Pass any number of Arguments Just like in This:\n",
        "\n",
        "def fullname(fname,lname):\n",
        "  print(fname+lname)\n",
        "\n",
        "# Call a fullname function here we want to give two values to run a function\n",
        "\n",
        "fullname(\"Tarun\",\" Arora\")"
      ],
      "execution_count": null,
      "outputs": [
        {
          "output_type": "stream",
          "text": [
            "Tarun Arora\n"
          ],
          "name": "stdout"
        }
      ]
    },
    {
      "cell_type": "code",
      "metadata": {
        "id": "llf5ko-e1Ome",
        "colab_type": "code",
        "colab": {
          "base_uri": "https://localhost:8080/",
          "height": 36
        },
        "outputId": "a0b348c5-166c-4ebb-b106-36b4863893d9"
      },
      "source": [
        "# Arbitary Arguments\n",
        "\n",
        "# If you do not know how many arguments that will be passed into your function, add a * before the parameter name in the function definition.\n",
        "\n",
        "# This way the function will receive a tuple of arguments, and can access the items accordingly\n",
        "\n",
        "def newf(*program):\n",
        "  print(\"I Love: \" + program[0])\n",
        "\n",
        "newf(\"Python\", \"Java\", \"C++\") "
      ],
      "execution_count": null,
      "outputs": [
        {
          "output_type": "stream",
          "text": [
            "I Love: Python\n"
          ],
          "name": "stdout"
        }
      ]
    },
    {
      "cell_type": "code",
      "metadata": {
        "id": "LNcBDtAD18jt",
        "colab_type": "code",
        "colab": {
          "base_uri": "https://localhost:8080/",
          "height": 54
        },
        "outputId": "367faec1-6733-4548-d7db-95df6e796d6e"
      },
      "source": [
        "# Default Value in a function\n",
        "\n",
        "def name(fname=\"Pulkit\"):\n",
        "  print(fname)\n",
        "\n",
        "# Call a name function\n",
        "name()    # By default it shows Pulkit\n",
        "name(\"Tarun\")  # But when we pass a new value it overides the default value.\n"
      ],
      "execution_count": null,
      "outputs": [
        {
          "output_type": "stream",
          "text": [
            "Pulkit\n",
            "Tarun\n"
          ],
          "name": "stdout"
        }
      ]
    },
    {
      "cell_type": "code",
      "metadata": {
        "id": "bSzoBu9t2XmE",
        "colab_type": "code",
        "colab": {
          "base_uri": "https://localhost:8080/",
          "height": 73
        },
        "outputId": "f61908f9-19f2-470a-f861-aa65c4b8bad5"
      },
      "source": [
        "# Pass a list as an Argument\n",
        "\n",
        "def names(a):\n",
        "  for item in a:\n",
        "    print(item)\n",
        "\n",
        "fname = [\"Tarun\",\"Rohan\",\"Shivam\"]\n",
        "\n",
        "# Call a function and pass a dictionary\n",
        "names(fname)"
      ],
      "execution_count": null,
      "outputs": [
        {
          "output_type": "stream",
          "text": [
            "Tarun\n",
            "Rohan\n",
            "Shivam\n"
          ],
          "name": "stdout"
        }
      ]
    },
    {
      "cell_type": "code",
      "metadata": {
        "id": "GhuEMka629b8",
        "colab_type": "code",
        "colab": {
          "base_uri": "https://localhost:8080/",
          "height": 36
        },
        "outputId": "cd6f137e-0c2c-4854-e49c-f1b3e3c49908"
      },
      "source": [
        "# Return Values\n",
        "# To let a function return a value, use the return statement.\n",
        "\n",
        "def add(x,y):\n",
        "  return x+y\n",
        "\n",
        "add(5,5)"
      ],
      "execution_count": null,
      "outputs": [
        {
          "output_type": "execute_result",
          "data": {
            "text/plain": [
              "10"
            ]
          },
          "metadata": {
            "tags": []
          },
          "execution_count": 9
        }
      ]
    },
    {
      "cell_type": "code",
      "metadata": {
        "id": "r_otoAJi3UfN",
        "colab_type": "code",
        "colab": {}
      },
      "source": [
        "# Pass Statement\n",
        "\n",
        "# function definitions cannot be empty, \n",
        "# but if you for some reason have a function definition with no content, put in the pass statement to avoid getting an error.\n",
        "\n",
        "\n",
        "def a():\n",
        "  pass"
      ],
      "execution_count": null,
      "outputs": []
    },
    {
      "cell_type": "markdown",
      "metadata": {
        "id": "-hESQYUG3kvn",
        "colab_type": "text"
      },
      "source": [
        "**Recursion**"
      ]
    },
    {
      "cell_type": "markdown",
      "metadata": {
        "id": "Ua-CGolo3qeR",
        "colab_type": "text"
      },
      "source": [
        "**Python also accepts function recursion, which means a defined function can call itself.**"
      ]
    },
    {
      "cell_type": "code",
      "metadata": {
        "id": "kH3asSM43f_u",
        "colab_type": "code",
        "colab": {
          "base_uri": "https://localhost:8080/",
          "height": 36
        },
        "outputId": "12102b4c-b5ca-4d49-c16d-d0765ac52514"
      },
      "source": [
        "def factorial(x):\n",
        "    if x == 1:\n",
        "        return 1\n",
        "    else:\n",
        "        return (x * factorial(x-1))\n",
        "\n",
        "num = 3\n",
        "print(\"The factorial of\", num, \"is\", factorial(num))"
      ],
      "execution_count": null,
      "outputs": [
        {
          "output_type": "stream",
          "text": [
            "The factorial of 3 is 6\n"
          ],
          "name": "stdout"
        }
      ]
    },
    {
      "cell_type": "markdown",
      "metadata": {
        "id": "3o1BOIm64CSB",
        "colab_type": "text"
      },
      "source": [
        "**Factorial of 3! = 3x2x1**"
      ]
    }
  ]
}