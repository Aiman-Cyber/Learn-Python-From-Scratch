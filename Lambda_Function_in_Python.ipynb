{
  "nbformat": 4,
  "nbformat_minor": 0,
  "metadata": {
    "colab": {
      "name": "Lambda Function in Python.ipynb",
      "provenance": [],
      "collapsed_sections": []
    },
    "kernelspec": {
      "name": "python3",
      "display_name": "Python 3"
    }
  },
  "cells": [
    {
      "cell_type": "code",
      "metadata": {
        "id": "rTvxeqkz42z4",
        "colab_type": "code",
        "colab": {
          "base_uri": "https://localhost:8080/",
          "height": 36
        },
        "outputId": "9d07ff9e-07dc-4e41-d501-b00bb8f96f73"
      },
      "source": [
        "# Create A Lambda Function\n",
        "\n",
        "x = lambda a : a + 10\n",
        "print(x(5))     # Here a = 5"
      ],
      "execution_count": 1,
      "outputs": [
        {
          "output_type": "stream",
          "text": [
            "15\n"
          ],
          "name": "stdout"
        }
      ]
    },
    {
      "cell_type": "code",
      "metadata": {
        "id": "eusyR5de54cR",
        "colab_type": "code",
        "colab": {
          "base_uri": "https://localhost:8080/",
          "height": 36
        },
        "outputId": "2276282f-4236-4d6d-ff2e-42a1a80593e2"
      },
      "source": [
        "# Lambda Function can take any number of arguments\n",
        "\n",
        "x = lambda a, b : a * b\n",
        "print(x(5, 6)) "
      ],
      "execution_count": 2,
      "outputs": [
        {
          "output_type": "stream",
          "text": [
            "30\n"
          ],
          "name": "stdout"
        }
      ]
    },
    {
      "cell_type": "code",
      "metadata": {
        "id": "QCrH1pfF6Aip",
        "colab_type": "code",
        "colab": {
          "base_uri": "https://localhost:8080/",
          "height": 36
        },
        "outputId": "c2cda93d-c390-4454-b19c-52f37bc06e9f"
      },
      "source": [
        "# We can also use Lambda Function inside a normal function \n",
        "\n",
        "def func(n):\n",
        "  return lambda a : a * n \n",
        "\n",
        "b = func(5)   # Here 5 is a value = n\n",
        "print(b(3))   # Here 3 is a value = a"
      ],
      "execution_count": 3,
      "outputs": [
        {
          "output_type": "stream",
          "text": [
            "15\n"
          ],
          "name": "stdout"
        }
      ]
    },
    {
      "cell_type": "code",
      "metadata": {
        "id": "KZiANEDO6TXL",
        "colab_type": "code",
        "colab": {
          "base_uri": "https://localhost:8080/",
          "height": 54
        },
        "outputId": "f96f633f-2e4f-4612-be66-87f183dca15b"
      },
      "source": [
        "def func(n):\n",
        "  return lambda a : a * n\n",
        "\n",
        "one = func(2)     #   = n \n",
        "two = func(3)\n",
        "\n",
        "print(one(11))    #     = a\n",
        "print(two(11))\n"
      ],
      "execution_count": 4,
      "outputs": [
        {
          "output_type": "stream",
          "text": [
            "22\n",
            "33\n"
          ],
          "name": "stdout"
        }
      ]
    },
    {
      "cell_type": "code",
      "metadata": {
        "id": "x2NJ1SJeLcV7",
        "colab_type": "code",
        "colab": {}
      },
      "source": [
        ""
      ],
      "execution_count": null,
      "outputs": []
    }
  ]
}