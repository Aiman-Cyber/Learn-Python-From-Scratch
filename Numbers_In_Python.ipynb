{
  "nbformat": 4,
  "nbformat_minor": 0,
  "metadata": {
    "colab": {
      "name": "Numbers In Python.ipynb",
      "provenance": [],
      "collapsed_sections": []
    },
    "kernelspec": {
      "name": "python3",
      "display_name": "Python 3"
    }
  },
  "cells": [
    {
      "cell_type": "code",
      "metadata": {
        "id": "I3gZQxmeiRTa",
        "colab_type": "code",
        "colab": {
          "base_uri": "https://localhost:8080/",
          "height": 72
        },
        "outputId": "9f8d1ddd-d9e5-4b4b-daef-3cf9292477f2"
      },
      "source": [
        "# Integer ( int )\n",
        "\n",
        "x = 100\n",
        "y = 999999\n",
        "z = -9999999\n",
        "\n",
        "print(type(x))\n",
        "print(type(y))\n",
        "print(type(z))"
      ],
      "execution_count": 1,
      "outputs": [
        {
          "output_type": "stream",
          "text": [
            "<class 'int'>\n",
            "<class 'int'>\n",
            "<class 'int'>\n"
          ],
          "name": "stdout"
        }
      ]
    },
    {
      "cell_type": "code",
      "metadata": {
        "id": "jux86aw2jwIK",
        "colab_type": "code",
        "colab": {
          "base_uri": "https://localhost:8080/",
          "height": 90
        },
        "outputId": "256a4e38-fc76-4285-c414-951f38518f22"
      },
      "source": [
        "# Float\n",
        "\n",
        "x = 531.10\n",
        "y = 111.0\n",
        "z = -35.5999\n",
        "\n",
        "e = 12E4   # Float can also be scientific numbers with an \"e\" to indicate the power of 10.\n",
        "\n",
        "print(type(x))\n",
        "print(type(y))\n",
        "print(type(z)) \n",
        "\n",
        "print(type(e))"
      ],
      "execution_count": 2,
      "outputs": [
        {
          "output_type": "stream",
          "text": [
            "<class 'float'>\n",
            "<class 'float'>\n",
            "<class 'float'>\n",
            "<class 'float'>\n"
          ],
          "name": "stdout"
        }
      ]
    },
    {
      "cell_type": "code",
      "metadata": {
        "id": "NrGuzpEdj3e3",
        "colab_type": "code",
        "colab": {
          "base_uri": "https://localhost:8080/",
          "height": 72
        },
        "outputId": "066d1b33-c9d6-4b60-d5f0-9e8fa1d1af6c"
      },
      "source": [
        "# Complex No.\n",
        "\n",
        "x = 3+5j\n",
        "y = 5j\n",
        "z = -5j\n",
        "\n",
        "print(type(x))\n",
        "print(type(y))\n",
        "print(type(z)) "
      ],
      "execution_count": 3,
      "outputs": [
        {
          "output_type": "stream",
          "text": [
            "<class 'complex'>\n",
            "<class 'complex'>\n",
            "<class 'complex'>\n"
          ],
          "name": "stdout"
        }
      ]
    },
    {
      "cell_type": "markdown",
      "metadata": {
        "id": "qTGarlkTkPnN",
        "colab_type": "text"
      },
      "source": [
        "***Conversions In Python***"
      ]
    },
    {
      "cell_type": "code",
      "metadata": {
        "id": "wdzA5uigkUDV",
        "colab_type": "code",
        "colab": {
          "base_uri": "https://localhost:8080/",
          "height": 53
        },
        "outputId": "fc5c4dc1-10a3-4c21-ea06-d764e09ad33b"
      },
      "source": [
        "# Convert From Int to Float.\n",
        "\n",
        "x = 55\n",
        "\n",
        "y = float(x)\n",
        "\n",
        "print(y)\n",
        "print(type(y))"
      ],
      "execution_count": 4,
      "outputs": [
        {
          "output_type": "stream",
          "text": [
            "55.0\n",
            "<class 'float'>\n"
          ],
          "name": "stdout"
        }
      ]
    },
    {
      "cell_type": "code",
      "metadata": {
        "id": "ttXqNlgukdw3",
        "colab_type": "code",
        "colab": {
          "base_uri": "https://localhost:8080/",
          "height": 53
        },
        "outputId": "4e2b7772-2ab2-4b21-8996-128862b1ecf3"
      },
      "source": [
        "# Convert From Float to Int\n",
        "\n",
        "x = 23.4\n",
        "y = int(x)\n",
        "\n",
        "print(y)  # Rounding off less then 0.5\n",
        "print(type(y))"
      ],
      "execution_count": 5,
      "outputs": [
        {
          "output_type": "stream",
          "text": [
            "23\n",
            "<class 'int'>\n"
          ],
          "name": "stdout"
        }
      ]
    },
    {
      "cell_type": "code",
      "metadata": {
        "id": "ToZYmRcTkn_D",
        "colab_type": "code",
        "colab": {
          "base_uri": "https://localhost:8080/",
          "height": 53
        },
        "outputId": "6f83cc27-6203-4017-cd57-9a4bcf39d9c9"
      },
      "source": [
        "# Convert from Int to Complex\n",
        "\n",
        "x = 45\n",
        "y = complex(x)\n",
        "\n",
        "print(y)\n",
        "print(type(y))"
      ],
      "execution_count": 6,
      "outputs": [
        {
          "output_type": "stream",
          "text": [
            "(45+0j)\n",
            "<class 'complex'>\n"
          ],
          "name": "stdout"
        }
      ]
    },
    {
      "cell_type": "code",
      "metadata": {
        "id": "mxLo1sUpx_K_",
        "colab_type": "code",
        "colab": {}
      },
      "source": [
        ""
      ],
      "execution_count": null,
      "outputs": []
    }
  ]
}