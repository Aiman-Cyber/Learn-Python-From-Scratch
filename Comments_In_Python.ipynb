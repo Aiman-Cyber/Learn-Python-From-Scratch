{
  "nbformat": 4,
  "nbformat_minor": 0,
  "metadata": {
    "colab": {
      "name": "Comments In Python.ipynb",
      "provenance": [],
      "collapsed_sections": []
    },
    "kernelspec": {
      "name": "python3",
      "display_name": "Python 3"
    }
  },
  "cells": [
    {
      "cell_type": "code",
      "metadata": {
        "id": "Vr_x7IrUaOQi",
        "colab_type": "code",
        "colab": {
          "base_uri": "https://localhost:8080/",
          "height": 36
        },
        "outputId": "1d9859c0-81be-481b-f560-2fc82e094864"
      },
      "source": [
        "# First Comment\n",
        "\n",
        "print(\"Hello World\")"
      ],
      "execution_count": 1,
      "outputs": [
        {
          "output_type": "stream",
          "text": [
            "Hello World\n"
          ],
          "name": "stdout"
        }
      ]
    },
    {
      "cell_type": "code",
      "metadata": {
        "id": "LS71bluuaZJd",
        "colab_type": "code",
        "colab": {
          "base_uri": "https://localhost:8080/",
          "height": 36
        },
        "outputId": "6c519875-f93c-402d-a6fe-2316ecbf5691"
      },
      "source": [
        "''' Multi\n",
        "Line\n",
        "Comment '''\n",
        "\n",
        "print(\"Hello World\")"
      ],
      "execution_count": 2,
      "outputs": [
        {
          "output_type": "stream",
          "text": [
            "Hello World\n"
          ],
          "name": "stdout"
        }
      ]
    },
    {
      "cell_type": "code",
      "metadata": {
        "id": "wIibxTQfahS6",
        "colab_type": "code",
        "colab": {
          "base_uri": "https://localhost:8080/",
          "height": 36
        },
        "outputId": "0c4ff103-7842-4bef-dc25-e224784d4c2b"
      },
      "source": [
        "print(\"My Name is Pulkit Arora\")   # We can place comments anywhere just by passing a # Tag at Starting."
      ],
      "execution_count": 3,
      "outputs": [
        {
          "output_type": "stream",
          "text": [
            "My Name is Pulkit Arora\n"
          ],
          "name": "stdout"
        }
      ]
    }
  ]
}