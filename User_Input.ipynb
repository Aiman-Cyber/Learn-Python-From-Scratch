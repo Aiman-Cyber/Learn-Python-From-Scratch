{
  "nbformat": 4,
  "nbformat_minor": 0,
  "metadata": {
    "colab": {
      "name": "User Input.ipynb",
      "provenance": [],
      "collapsed_sections": []
    },
    "kernelspec": {
      "name": "python3",
      "display_name": "Python 3"
    }
  },
  "cells": [
    {
      "cell_type": "markdown",
      "metadata": {
        "id": "m0bGEC2ZMzVY",
        "colab_type": "text"
      },
      "source": [
        "Python allows for user input.\n",
        "\n",
        "That means we are able to ask the user for input.\n",
        "\n",
        "Python 3.6 uses the input() method. "
      ]
    },
    {
      "cell_type": "code",
      "metadata": {
        "id": "VUIyl1X4M3mz",
        "colab_type": "code",
        "colab": {
          "base_uri": "https://localhost:8080/",
          "height": 54
        },
        "outputId": "5ea622ba-0fd6-48c1-f68d-3669a6e2e45a"
      },
      "source": [
        "# Example\n",
        "\n",
        "\n",
        "a = int(input(\"Enter The Number: \"))\n",
        "\n",
        "print(a)"
      ],
      "execution_count": 1,
      "outputs": [
        {
          "output_type": "stream",
          "text": [
            "Enter The Number: 5\n",
            "5\n"
          ],
          "name": "stdout"
        }
      ]
    }
  ]
}